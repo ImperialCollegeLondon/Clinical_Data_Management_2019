{
 "cells": [
  {
   "cell_type": "markdown",
   "metadata": {},
   "source": [
    "# Practical 6: Image classification\n",
    "\n",
    "In this practical, you will build a model for hand-written digit classification on the [MNIST](http://yann.lecun.com/exdb/mnist/) dataset. The MNIST dataset is a famous benchmark dataset for machine learning. It consists of pairs of images and labels (10 classes, from 0 to 9). It looks like this.\n",
    "\n",
    "![](mnist.png)\n",
    "\n",
    "You model, once trained, will be able to predict for each image, what the digit is. You can use any classification model from the [sklearn](https://scikit-learn.org) library."
   ]
  },
  {
   "cell_type": "code",
   "execution_count": null,
   "metadata": {},
   "outputs": [],
   "source": [
    "# Import libaries (provided)\n",
    "import numpy as np\n",
    "import pandas as pd\n",
    "import gzip\n",
    "import os\n",
    "import struct\n",
    "import matplotlib.pyplot as plt\n",
    "import sklearn\n",
    "from sklearn import neighbors, ensemble, svm, metrics\n",
    "import time"
   ]
  },
  {
   "cell_type": "code",
   "execution_count": null,
   "metadata": {},
   "outputs": [],
   "source": [
    "# Functions for loading MNIST image data (provided)\n",
    "def extract_images(f_name):\n",
    "    \"\"\" Extract the images into a 2D uint8 numpy array [index, rows x cols]. \"\"\"\n",
    "    print('Extracting', f_name)\n",
    "    with gzip.open(f_name, 'rb') as f:\n",
    "        # Read file header\n",
    "        buffer = f.read(16)\n",
    "        magic, num_images, rows, cols = struct.unpack(\">IIII\", buffer)\n",
    "        if magic != 2051:\n",
    "            raise ValueError('Invalid magic number {0} in MNIST image file {1}.'.format(magic, f_name))\n",
    "\n",
    "        # Read data\n",
    "        buffer = f.read(rows * cols * num_images)\n",
    "        data = np.frombuffer(buffer, dtype=np.uint8)\n",
    "        data = data.reshape(num_images, rows * cols)\n",
    "        return data\n",
    "\n",
    "\n",
    "# Functions for loading MNIST label data (provided)\n",
    "def extract_labels(f_name):\n",
    "    \"\"\" Extract the labels into a 1D uint8 numpy vector [index,]. \"\"\"\n",
    "    print('Extracting', f_name)\n",
    "    with gzip.open(f_name, 'rb') as f:\n",
    "        # Read file header\n",
    "        buffer = f.read(8)\n",
    "        magic, num_items = struct.unpack(\">II\", buffer)\n",
    "        if magic != 2049:\n",
    "            raise ValueError('Invalid magic number {0} in MNIST label file {1}.'.format(magic, f_name))\n",
    "\n",
    "        # Read data\n",
    "        buffer = f.read(num_items)\n",
    "        data = np.frombuffer(buffer, dtype=np.uint8)\n",
    "        return data"
   ]
  },
  {
   "cell_type": "markdown",
   "metadata": {},
   "source": [
    "## 1. Load and browse data.\n",
    "\n",
    "The MNIST dataset is split into a training set (60,000 samples) and a test set (10,000 samples). In total, there are 4 files.\n",
    "\n",
    "* `train-images-idx3-ubyte.gz`: training images\n",
    "* `train-labels-idx1-ubyte.gz`: training labels\n",
    "* `t10k-images-idx3-ubyte.gz`: test images\n",
    "* `t10k-labels-idx1-ubyte.gz`: test labels\n",
    "\n",
    "#### 1.1 Load data (provided)."
   ]
  },
  {
   "cell_type": "code",
   "execution_count": null,
   "metadata": {},
   "outputs": [],
   "source": [
    "# Training set\n",
    "X_train = extract_images('train-images-idx3-ubyte.gz')\n",
    "y_train = extract_labels('train-labels-idx1-ubyte.gz')\n",
    "\n",
    "# Test set\n",
    "X_test = extract_images('t10k-images-idx3-ubyte.gz')\n",
    "y_test = extract_labels('t10k-labels-idx1-ubyte.gz')"
   ]
  },
  {
   "cell_type": "markdown",
   "metadata": {},
   "source": [
    "#### 1.2 Print out the shapes of the four arrays."
   ]
  },
  {
   "cell_type": "code",
   "execution_count": null,
   "metadata": {},
   "outputs": [],
   "source": []
  },
  {
   "cell_type": "markdown",
   "metadata": {},
   "source": [
    "#### 1.3 For the first 25 samples in the training set, show their images and corresponding labels.\n",
    "\n",
    "Hint: Each image is of size 28 by 28. You need to reformat the correct shape before displaying."
   ]
  },
  {
   "cell_type": "code",
   "execution_count": null,
   "metadata": {},
   "outputs": [],
   "source": []
  },
  {
   "cell_type": "markdown",
   "metadata": {},
   "source": [
    "#### 1.4 For each of the 10 classes (digit 0 to 9), count the number of samples in the training and test sets."
   ]
  },
  {
   "cell_type": "code",
   "execution_count": null,
   "metadata": {},
   "outputs": [],
   "source": []
  },
  {
   "cell_type": "markdown",
   "metadata": {},
   "source": [
    "## 2. Analyse data.\n",
    "\n",
    "#### 2.1 Here, you need to train a classification model on the training set, then apply it to the test set. Most [sklearn](https://scikit-learn.org) classifiers require two inputs for training a model, respectively features X and labels y.\n",
    "\n",
    "X: N x M matrix, N denoting the number of samples, M denoting the number of features for each sample.\n",
    "\n",
    "y: N x 1 vector, each element recording the label of a sample.\n",
    "\n",
    "Since we have already prepared the data in this format, you only need to train the model. You can use any classification model supported by sklearn, including\n",
    "\n",
    "* [K nearest neighbour classifier](https://scikit-learn.org/stable/modules/classes.html#module-sklearn.neighbors)\n",
    "* [Random forest classifier](https://scikit-learn.org/stable/modules/classes.html#module-sklearn.ensemble)\n",
    "* [Support vector machine classifier](https://scikit-learn.org/stable/modules/classes.html#module-sklearn.svm)\n",
    "* or any other models\n",
    "\n",
    "Since in today's lecture, we just discussed the nearest neighbour method. Why not try this?\n",
    "\n",
    "ALso, please use the `time` function to count how long it takes for training."
   ]
  },
  {
   "cell_type": "code",
   "execution_count": null,
   "metadata": {},
   "outputs": [],
   "source": []
  },
  {
   "cell_type": "markdown",
   "metadata": {},
   "source": [
    "#### 1.2 Apply the model onto the first `100` samples in the test set. Count how long it takes."
   ]
  },
  {
   "cell_type": "code",
   "execution_count": null,
   "metadata": {},
   "outputs": [],
   "source": []
  },
  {
   "cell_type": "markdown",
   "metadata": {},
   "source": [
    "#### 1.3 What is the classification accuracy for the first 100 test samples?\n",
    "\n",
    "Accuracy is defined as the percentage of correctly classified samples."
   ]
  },
  {
   "cell_type": "code",
   "execution_count": null,
   "metadata": {},
   "outputs": [],
   "source": []
  },
  {
   "cell_type": "markdown",
   "metadata": {},
   "source": [
    "#### 1.4 Display the wrongly classsified images, their prediction results and ground truth."
   ]
  },
  {
   "cell_type": "code",
   "execution_count": null,
   "metadata": {},
   "outputs": [],
   "source": []
  },
  {
   "cell_type": "code",
   "execution_count": null,
   "metadata": {},
   "outputs": [],
   "source": []
  }
 ],
 "metadata": {
  "kernelspec": {
   "display_name": "Python 3",
   "language": "python",
   "name": "python3"
  },
  "language_info": {
   "codemirror_mode": {
    "name": "ipython",
    "version": 3
   },
   "file_extension": ".py",
   "mimetype": "text/x-python",
   "name": "python",
   "nbconvert_exporter": "python",
   "pygments_lexer": "ipython3",
   "version": "3.6.8"
  }
 },
 "nbformat": 4,
 "nbformat_minor": 4
}
