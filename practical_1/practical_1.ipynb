{
 "cells": [
  {
   "cell_type": "markdown",
   "metadata": {},
   "source": [
    "# Practical 1: Python Pandas\n",
    "\n",
    "In this practical, you will learn how to use pandas for data manipulation, including merge, join and concatenate operations.\n",
    "\n",
    "## 1. Load library and data (provided to students)"
   ]
  },
  {
   "cell_type": "code",
   "execution_count": null,
   "metadata": {},
   "outputs": [],
   "source": [
    "import pandas as pd\n",
    "\n",
    "\n",
    "# Create the pandas dataframes\n",
    "dummy_data1 = {'Name': ['Link', 'Blanka', 'Cammy', 'Oro', 'Ryu', 'Gulie', 'Snake'],\n",
    "               'Feature1': [15, 16, 17, 15, 12, 13, 23]}\n",
    "\n",
    "dummy_data2 = {'Name': ['Honda', 'Blanka', 'Cammy', 'Oro', 'Ryu', 'Gulie', 'Ken'],\n",
    "               'Feature2': ['A', 'B', 'AB', 'B', 'A', 'AB', 'O']}\n",
    "\n",
    "dummy_data3 = {'Feature3': ['F', 'M', 'F', 'F', 'M', 'M', 'F']}\n",
    "\n",
    "df1 = pd.DataFrame(dummy_data1, columns = ['Name', 'Feature1'], index=[0, 1, 2, 3, 4, 5, 6])\n",
    "df2 = pd.DataFrame(dummy_data2, columns = ['Name', 'Feature2'], index=[0, 1, 2, 3, 4, 5, 6])\n",
    "df3 = pd.DataFrame(dummy_data3, columns = ['Feature3'], index=[0, 1, 2, 3, 4, 5, 6])"
   ]
  },
  {
   "cell_type": "markdown",
   "metadata": {},
   "source": [
    "### 1.1. Display the data frames"
   ]
  },
  {
   "cell_type": "code",
   "execution_count": null,
   "metadata": {},
   "outputs": [],
   "source": []
  },
  {
   "cell_type": "markdown",
   "metadata": {},
   "source": [
    "## 2. Merge/join\n",
    "\n",
    "Pandas provides different ways for joining two data frames. pandas.merge(df1, df2) is the underlying function used for all merge/join behaviour. df1.join(df2) is another function that directly applies to a dataframe object. You can choose whichever form you find more convenient.\n",
    "\n",
    "There are different kinds of joining operations, including:\n",
    "\n",
    "* Inner Join: Returns records that have matching values in both tables.\n",
    "* Left Join: Returns all records from the left table, and the matched records from the right table.\n",
    "* Right Join: Returns all records from the right table, and the matched records from the left table.\n",
    "* Full Join: Returns all records when there is a match in either left or right table.\n",
    "\n",
    "It is straightforward to understand the difference from the following illustrations.\n",
    "\n",
    "![](img_innerjoin.gif) ![](img_leftjoin.gif) ![](img_rightjoin.gif) ![](img_fulljoin.gif)\n",
    "\n",
    "\n",
    "### 2.1 Merge df1 and df2 by inner join, print the merged dataframe.\n",
    "\n",
    "Hint: use the `pd.merge()` function, which by defaut perform the intersection between two data frames."
   ]
  },
  {
   "cell_type": "code",
   "execution_count": null,
   "metadata": {},
   "outputs": [],
   "source": []
  },
  {
   "cell_type": "markdown",
   "metadata": {},
   "source": [
    "### 2.2  Merge df1 and df2 by left join, print the merged dataframe.\n",
    "\n",
    "Check what happens to previously non-existing element in the dataframe."
   ]
  },
  {
   "cell_type": "code",
   "execution_count": null,
   "metadata": {},
   "outputs": [],
   "source": []
  },
  {
   "cell_type": "markdown",
   "metadata": {},
   "source": [
    "### 2.3  Merge df1 and df2 by right join, print the merged dataframe.\n",
    "\n",
    "Check what happens to previously non-existing element in the dataframe."
   ]
  },
  {
   "cell_type": "code",
   "execution_count": null,
   "metadata": {},
   "outputs": [],
   "source": []
  },
  {
   "cell_type": "markdown",
   "metadata": {},
   "source": [
    "### 2.4: Merge df1 and df2 by full outer join, print the results."
   ]
  },
  {
   "cell_type": "code",
   "execution_count": null,
   "metadata": {},
   "outputs": [],
   "source": []
  },
  {
   "cell_type": "markdown",
   "metadata": {},
   "source": [
    "### 2.5 The dataframe.join() function is a different way for performing the joining operation. "
   ]
  },
  {
   "cell_type": "code",
   "execution_count": null,
   "metadata": {},
   "outputs": [],
   "source": []
  },
  {
   "cell_type": "markdown",
   "metadata": {},
   "source": [
    "### 2.6 Perform left join on df2 and df3 using this function."
   ]
  },
  {
   "cell_type": "code",
   "execution_count": null,
   "metadata": {},
   "outputs": [],
   "source": []
  },
  {
   "cell_type": "markdown",
   "metadata": {},
   "source": [
    "### 2.7 Join df2 to df1 and add suffix to the same feature.\n",
    "\n",
    "If you want to join two datadframes that have the same feature name, e.g. 'Name', you need to add a suffix to each feature name, respectivly specifying `lsuffix = ''` and `rsuffix = ''`."
   ]
  },
  {
   "cell_type": "code",
   "execution_count": null,
   "metadata": {},
   "outputs": [],
   "source": []
  },
  {
   "cell_type": "markdown",
   "metadata": {},
   "source": [
    "## 3. Concatenate dataframes (data provided to students)."
   ]
  },
  {
   "cell_type": "code",
   "execution_count": null,
   "metadata": {},
   "outputs": [],
   "source": [
    "df1 = pd.DataFrame({'A': ['A0', 'A1', 'A2', 'A3'],\n",
    "                    'B': ['B0', 'B1', 'B2', 'B3'],\n",
    "                    'C': ['C0', 'C1', 'C2', 'C3'],\n",
    "                    'D': ['D0', 'D1', 'D2', 'D3']},\n",
    "                    index=[0, 1, 2, 3])\n",
    "\n",
    "df2 = pd.DataFrame({'A': ['A4', 'A5', 'A6', 'A7'],\n",
    "                    'B': ['B4', 'B5', 'B6', 'B7'],\n",
    "                    'D': ['D4', 'D5', 'D6', 'D7']},\n",
    "                   index=[4, 5, 6, 7])\n",
    "\n",
    "df3 = pd.DataFrame({'A': ['A8', 'A9', 'A10', 'A11'],\n",
    "                    'B': ['B8', 'B9', 'B10', 'B11'],\n",
    "                    'C': ['C8', 'C9', 'C10', 'C11'],\n",
    "                    'D': ['D8', 'D9', 'D10', 'D11']},\n",
    "                    index=[8, 9, 10, 11])"
   ]
  },
  {
   "cell_type": "markdown",
   "metadata": {},
   "source": [
    "### 3.1 Concatenate df1, df2 and df3 horizontally.\n",
    "\n",
    "`pd.concat()` is able to concatenate any number of dataframes.\n",
    "`axis = ''` specifies for which dimension the dataframes will be concatenated."
   ]
  },
  {
   "cell_type": "code",
   "execution_count": null,
   "metadata": {},
   "outputs": [],
   "source": []
  },
  {
   "cell_type": "markdown",
   "metadata": {},
   "source": [
    "### 3.2 Concatenate df1, df2 and df3 vertically."
   ]
  },
  {
   "cell_type": "code",
   "execution_count": null,
   "metadata": {},
   "outputs": [],
   "source": []
  },
  {
   "cell_type": "markdown",
   "metadata": {},
   "source": [
    "### 3.3 Concatenate and re-index df1 and df3.\n",
    "\n",
    "As you can see, the index of df1 and df3 are discontinued after concatenation, i.e. 0, 1, 2, 3, 8, 9, 10, 11. We can concatenate them with a seris of continued index by specifying `ignore_index=True`."
   ]
  },
  {
   "cell_type": "code",
   "execution_count": null,
   "metadata": {},
   "outputs": [],
   "source": []
  },
  {
   "cell_type": "markdown",
   "metadata": {},
   "source": [
    "### 3.4 Hierarchical concatenation.\n",
    "\n",
    "We can assign each dataframe with a key, then concatenate the dataframes as blocks. The assignment of keys can be done by using a dictionary. Once such hierarchical concatenation is implemented, we can index each block from the concatenated dataframe by its corresponding key."
   ]
  },
  {
   "cell_type": "code",
   "execution_count": null,
   "metadata": {},
   "outputs": [],
   "source": [
    "# Construct the dictionary (provided to students)\n",
    "pieces = {'x': df1, 'y': df2, 'z': df3}"
   ]
  },
  {
   "cell_type": "code",
   "execution_count": null,
   "metadata": {},
   "outputs": [],
   "source": []
  },
  {
   "cell_type": "markdown",
   "metadata": {},
   "source": [
    "### 3.5 Print the block with key 'y'."
   ]
  },
  {
   "cell_type": "code",
   "execution_count": null,
   "metadata": {},
   "outputs": [],
   "source": []
  }
 ],
 "metadata": {
  "kernelspec": {
   "display_name": "Python 3",
   "language": "python",
   "name": "python3"
  },
  "language_info": {
   "codemirror_mode": {
    "name": "ipython",
    "version": 3
   },
   "file_extension": ".py",
   "mimetype": "text/x-python",
   "name": "python",
   "nbconvert_exporter": "python",
   "pygments_lexer": "ipython3",
   "version": "3.6.8"
  }
 },
 "nbformat": 4,
 "nbformat_minor": 4
}
