{
 "cells": [
  {
   "cell_type": "markdown",
   "metadata": {},
   "source": [
    "# Coursework 1: Data loading, visualisation and simple analysis using Python\n",
    "\n",
    "In this coursework, we will deal with a dataset stored in the \".csv\" format, which describes the housing price in Boston. This is a small dataset with only 506 cases. But it would be a good illustration how Python can be used for loading, visualising and analysing a dataset. The dataset was originally published at\n",
    "\\[1\\] Harrison, D. and Rubinfeld, D.L. Hedonic prices and the demand for clean air, J. Environ. Economics & Management, vol.5, 81-102, 1978.\n",
    "\n",
    "## Dataset\n",
    "A copy of the .csv data is already here after you git clone this repository. The .csv format is a format for spreadsheet, which can be opened using Microsoft Excel or Libreoffice.\n",
    "\n",
    "## Import libraries\n",
    "The code importing the libraries is already provided, which includes\n",
    "* pandas: a library for loading .csv datasets\n",
    "* numpy: a library for manipulating numbers and arrays\n",
    "* matplotlib: for data visualisation\n",
    "* seaborn: for data visualisation as well\n",
    "* sklearn: for linear regression and machine learing"
   ]
  },
  {
   "cell_type": "code",
   "execution_count": null,
   "metadata": {},
   "outputs": [],
   "source": [
    "import pandas as pd\n",
    "import numpy as np\n",
    "import matplotlib.pyplot as plt\n",
    "import seaborn as sns \n",
    "from sklearn.linear_model import LinearRegression\n",
    "from sklearn.model_selection import train_test_split\n",
    "from sklearn.metrics import mean_squared_error\n",
    "from sklearn.metrics import r2_score\n",
    "from sklearn.preprocessing import StandardScaler\n",
    "from sklearn.decomposition import PCA"
   ]
  },
  {
   "cell_type": "markdown",
   "metadata": {},
   "source": [
    "## 1. Load data and print the first few lines using pandas (10 points)."
   ]
  },
  {
   "cell_type": "code",
   "execution_count": null,
   "metadata": {},
   "outputs": [],
   "source": []
  },
  {
   "cell_type": "markdown",
   "metadata": {},
   "source": [
    "## Dataset description\n",
    "Each row is a case of the housing price. There are 506 cases in total. Each column is an attribute, there are 14 attributes, including:\n",
    "\n",
    "**crim**: per capita crime rate by town\n",
    "\n",
    "**zn**: proportion of residential land zoned for lots over 25,000 sq.ft.\n",
    "\n",
    "**indus**: proportion of non-retail business acres per town\n",
    "\n",
    "**chas**: Charles River dummy variable (1 if tract bounds river; 0 otherwise)\n",
    "\n",
    "**nox**: nitric oxides concentration (parts per 10 million)\n",
    "\n",
    "**rm**: average number of rooms per dwelling\n",
    "\n",
    "**age**: proportion of owner-occupied units built prior to 1940\n",
    "\n",
    "**dis**: weighted distances to five Boston employment centres\n",
    "\n",
    "**rad**: index of accessibility to radial highways\n",
    "\n",
    "**tax**: full-value property-tax rate per \\$10,000\n",
    "\n",
    "**ptratio**: pupil-teacher ratio by town\n",
    "\n",
    "**b**: 1000(Bk - 0.63)^2 where Bk is the proportion of blacks by town\n",
    "\n",
    "**lstat**: lower status of the population\n",
    "\n",
    "**medv**: Median value of owner-occupied homes in $1000's\n",
    "\n",
    "## 2. Simple statistics (10 points).\n",
    "Print the basic statistics (mean and standard deviation) for the crime rate, nitric oxides concentration, pupil-teacher ratio and median value of owner-occupied homes."
   ]
  },
  {
   "cell_type": "code",
   "execution_count": null,
   "metadata": {},
   "outputs": [],
   "source": []
  },
  {
   "cell_type": "markdown",
   "metadata": {},
   "source": [
    "## 3. Data visualisation (30 points).\n",
    "### 3.1 Plot the histogram distribution for each data column (10 points)."
   ]
  },
  {
   "cell_type": "code",
   "execution_count": null,
   "metadata": {},
   "outputs": [],
   "source": []
  },
  {
   "cell_type": "markdown",
   "metadata": {},
   "source": [
    "### 3.2 Plot the correlation matrix between the data columns (10 points)."
   ]
  },
  {
   "cell_type": "code",
   "execution_count": null,
   "metadata": {},
   "outputs": [],
   "source": []
  },
  {
   "cell_type": "markdown",
   "metadata": {},
   "source": [
    "### 3.3 Plot the house price (the last data column) against each feature (each of the first 13 data columns) (10 points)."
   ]
  },
  {
   "cell_type": "code",
   "execution_count": null,
   "metadata": {},
   "outputs": [],
   "source": []
  },
  {
   "cell_type": "markdown",
   "metadata": {},
   "source": [
    "## 4. Linear regression (30 points).\n",
    "### 4.1. Regress the house price against all the features (15 points).\n",
    "\n",
    "* First, split the whole dataset into a training set and a test set using a pre-defined ratio (80:20 in this case).\n",
    "\n",
    "* Then, train the linear regression model using the training set.\n",
    "\n",
    "* Finally, plot the predicted house price on the training set.\n",
    "\n",
    "The dataset split is provided for consistent evaluation. Please do not change the random_state seed."
   ]
  },
  {
   "cell_type": "code",
   "execution_count": null,
   "metadata": {},
   "outputs": [],
   "source": [
    "X = df.iloc[:, :13]\n",
    "y = df.iloc[:, 13]\n",
    "X_train, X_test, y_train, y_test = train_test_split(X, y, test_size=0.2, random_state=0)"
   ]
  },
  {
   "cell_type": "code",
   "execution_count": null,
   "metadata": {},
   "outputs": [],
   "source": []
  },
  {
   "cell_type": "markdown",
   "metadata": {},
   "source": [
    "### 4.2 Quantitatively evaluate the linear model using the root of mean squared error (RMSE) and the R squared (R2) on both the training set and test set (15 points)."
   ]
  },
  {
   "cell_type": "code",
   "execution_count": null,
   "metadata": {},
   "outputs": [],
   "source": []
  },
  {
   "cell_type": "markdown",
   "metadata": {},
   "source": [
    "## 5. Challenge yourself (20 points)\n",
    "\n",
    "Previously, we use 13 features to predict the house price. Perhaps some of the features are more relevant to the price, whereas some are less.\n",
    "\n",
    "### 5.1 Explore the features and develop a linear model for house price prediction using only 5 features as input (10 points).\n",
    "\n",
    "Hint: either using feature selection or dimensionality reduction."
   ]
  },
  {
   "cell_type": "code",
   "execution_count": null,
   "metadata": {},
   "outputs": [],
   "source": []
  },
  {
   "cell_type": "markdown",
   "metadata": {},
   "source": [
    "### 5.2 Evaluate the quantitative performance of the new model in terms of RMSE and R2 on the test set (10 points)."
   ]
  },
  {
   "cell_type": "code",
   "execution_count": null,
   "metadata": {},
   "outputs": [],
   "source": []
  },
  {
   "cell_type": "markdown",
   "metadata": {},
   "source": [
    "## 6. Survey\n",
    "\n",
    "How long did it take you to complete the coursework? What is your background and how you feel?"
   ]
  },
  {
   "cell_type": "code",
   "execution_count": null,
   "metadata": {},
   "outputs": [],
   "source": []
  }
 ],
 "metadata": {
  "kernelspec": {
   "display_name": "Python 3",
   "language": "python",
   "name": "python3"
  },
  "language_info": {
   "codemirror_mode": {
    "name": "ipython",
    "version": 3
   },
   "file_extension": ".py",
   "mimetype": "text/x-python",
   "name": "python",
   "nbconvert_exporter": "python",
   "pygments_lexer": "ipython3",
   "version": "3.7.2"
  }
 },
 "nbformat": 4,
 "nbformat_minor": 4
}
