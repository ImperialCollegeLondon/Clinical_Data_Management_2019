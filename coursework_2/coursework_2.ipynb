{
 "cells": [
  {
   "cell_type": "markdown",
   "metadata": {},
   "source": [
    "# Coursework 2: Clinical image classification\n",
    "\n",
    "In this coursework, we will work on a clinical imaging dataset. The dataset comes from ISIC (International Skin Imaging Collaboration) 2016 Challenge. It consists of 900 skin lesion images, categorised into two classes: malignant (melanoma) and benign, as shown here.\n",
    "\n",
    "![](melanoma_vs_benign.jpg)\n",
    "\n",
    "To faciliate this coursework, we have pre-processed the images for you, including resizing the original images to a standard size of 64 by 64, splitting into a training set and a test set, so you simply need to focus on the visualisation and classification work. Your task here is to read the imaging data and train a model that classifies between benign and malignant images.\n",
    "\n",
    "Hint: This coursework is similar to the hand digit classification problem you have just learnt at class. It is a transition from data management to data analysis. You will use a machine learning library, sklearn, and we have provided guidance in this coursework. We will assess the proper implementation of the whole pipeline, but not the classification accuracy. Just have fun!\n",
    "\n",
    "In the next term, you will learn more about machine learning, what each of the model mentioned here does and how to improve the classification performance."
   ]
  },
  {
   "cell_type": "code",
   "execution_count": null,
   "metadata": {},
   "outputs": [],
   "source": [
    "# Load the libraries (provided)\n",
    "import os\n",
    "import imageio\n",
    "import matplotlib.pyplot as plt\n",
    "import pandas as pd\n",
    "import numpy as np\n",
    "import sklearn\n",
    "from sklearn import neighbors, ensemble, svm, metrics"
   ]
  },
  {
   "cell_type": "markdown",
   "metadata": {},
   "source": [
    "## 1. Load and visualise data.\n",
    "\n",
    "#### 1.1 Load the spreadsheets `training.csv` and `test.csv`. Print the first few lines. Check how many benign and malignant cases there are in training and test sets. (15 points)"
   ]
  },
  {
   "cell_type": "code",
   "execution_count": null,
   "metadata": {},
   "outputs": [],
   "source": []
  },
  {
   "cell_type": "markdown",
   "metadata": {},
   "source": [
    "#### 1.2 From the training image set, load five malignant cases and display their images. (10 points)\n",
    "\n",
    "The images are compressed in files with suffix \".tar.gz\". You need to decompress them first.\n",
    "\n",
    "Hint: You can use the library [imageio](https://imageio.github.io/) to read images."
   ]
  },
  {
   "cell_type": "code",
   "execution_count": null,
   "metadata": {},
   "outputs": [],
   "source": []
  },
  {
   "cell_type": "markdown",
   "metadata": {},
   "source": [
    "#### 1.3 From the training image set, load five benign cases and display their images. (10 points)"
   ]
  },
  {
   "cell_type": "code",
   "execution_count": null,
   "metadata": {},
   "outputs": [],
   "source": []
  },
  {
   "cell_type": "markdown",
   "metadata": {},
   "source": [
    "#### 1.4 Pick one image and show the three channels (R-G-B) of the image separately. (10 points)\n",
    "\n",
    "Hint: An RGB image is an array of size X x Y x C, where C = 3, standing for respectively red, green and blue channels. You can use `Reds_r`, `Greens_r`, `Blues_r` as the cmap (colormap) for each channel when you plot the images."
   ]
  },
  {
   "cell_type": "code",
   "execution_count": null,
   "metadata": {},
   "outputs": [],
   "source": []
  },
  {
   "cell_type": "markdown",
   "metadata": {},
   "source": [
    "#### 1.5 Show the intensity histogram of the image. (5 points)\n",
    "\n",
    "Hint: Flatten the image to a vector, then use the appropriate histogram function in Python."
   ]
  },
  {
   "cell_type": "code",
   "execution_count": null,
   "metadata": {},
   "outputs": [],
   "source": []
  },
  {
   "cell_type": "markdown",
   "metadata": {},
   "source": [
    "## 2. Analyse data.\n",
    "\n",
    "Here, you need to train a classification model on the training set, then apply it to the test set. Most [sklearn](https://scikit-learn.org) classifiers require two inputs for training a model, respectively features X and labels y.\n",
    "\n",
    "X: N x M matrix, N denoting the number of samples, M denoting the number of features for each sample.\n",
    "\n",
    "y: N x 1 vector, each element recording the label of a sample.\n",
    "\n",
    "#### 2.1 Prepare the training data according to the above description, using variable names X_train and y_train. Print out the shapes, i.e. dimensions, of X_train and y_train. (10 points)"
   ]
  },
  {
   "cell_type": "code",
   "execution_count": null,
   "metadata": {},
   "outputs": [],
   "source": []
  },
  {
   "cell_type": "markdown",
   "metadata": {},
   "source": [
    "#### 2.2 Similarly, prepare the test data according, using variable names X_test and y_test. Print out the shapes of X_test and y_test. (10 points)"
   ]
  },
  {
   "cell_type": "code",
   "execution_count": null,
   "metadata": {},
   "outputs": [],
   "source": []
  },
  {
   "cell_type": "markdown",
   "metadata": {},
   "source": [
    "#### 2.3 Train a classification model on X_train and y_train. (10 points)\n",
    "\n",
    "Hint: You only need to train one model. You can use any classification model supported by sklearn, including\n",
    "\n",
    "* [K nearest neighbour classifier](https://scikit-learn.org/stable/modules/classes.html#module-sklearn.neighbors)\n",
    "* [Random forest classifier](https://scikit-learn.org/stable/modules/classes.html#module-sklearn.ensemble)\n",
    "* [Support vector machine classifier](https://scikit-learn.org/stable/modules/classes.html#module-sklearn.svm)\n",
    "* or any other models"
   ]
  },
  {
   "cell_type": "code",
   "execution_count": null,
   "metadata": {},
   "outputs": [],
   "source": []
  },
  {
   "cell_type": "markdown",
   "metadata": {},
   "source": [
    "#### 2.4 Apply the model on the test set X_test to predict the labels. (5 points)"
   ]
  },
  {
   "cell_type": "code",
   "execution_count": null,
   "metadata": {},
   "outputs": [],
   "source": []
  },
  {
   "cell_type": "markdown",
   "metadata": {},
   "source": [
    "#### 2.5 Display the [confusion matrix](https://scikit-learn.org/stable/modules/model_evaluation.html#classification-metrics) of the prediction results. (5 points)\n",
    "\n",
    "Hint: You can find an [implementation](https://scikit-learn.org/stable/modules/model_evaluation.html#classification-metrics) in sklearn."
   ]
  },
  {
   "cell_type": "code",
   "execution_count": null,
   "metadata": {},
   "outputs": [],
   "source": []
  },
  {
   "cell_type": "markdown",
   "metadata": {},
   "source": [
    "#### 2.6 Explain how many malignant cases there are in the test set and how many are correctly predicted. (10 points)"
   ]
  },
  {
   "cell_type": "code",
   "execution_count": null,
   "metadata": {},
   "outputs": [],
   "source": []
  },
  {
   "cell_type": "markdown",
   "metadata": {},
   "source": [
    "#### Survey: How long does it take you to complete this coursework?"
   ]
  },
  {
   "cell_type": "code",
   "execution_count": null,
   "metadata": {},
   "outputs": [],
   "source": []
  }
 ],
 "metadata": {
  "kernelspec": {
   "display_name": "Python 3",
   "language": "python",
   "name": "python3"
  },
  "language_info": {
   "codemirror_mode": {
    "name": "ipython",
    "version": 3
   },
   "file_extension": ".py",
   "mimetype": "text/x-python",
   "name": "python",
   "nbconvert_exporter": "python",
   "pygments_lexer": "ipython3",
   "version": "3.6.8"
  }
 },
 "nbformat": 4,
 "nbformat_minor": 4
}
