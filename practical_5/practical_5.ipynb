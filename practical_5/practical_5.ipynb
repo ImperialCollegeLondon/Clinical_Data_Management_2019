{
 "cells": [
  {
   "cell_type": "markdown",
   "metadata": {},
   "source": [
    "# Practical 5: Data privacy\n",
    "\n",
    "In this practical, you will be given two datasets, a clinical dataset and a query dataset. The datasets were adapted from \\[1\\] but with the age information modified. Also, the original dataset contains 100,000 subjects. Here, we have already reduced the number of subjects in the datasets so that you do not need to wait for a long time while running the practical on your laptop.\n",
    "\n",
    "\\[1\\] [Diabetes 130-US hospitals for years 1999-2008 Data Set](https://archive.ics.uci.edu/ml/datasets/Diabetes+130-US+hospitals+for+years+1999-2008). For more detail, please refer to Table 1 of this paper: Beata Strack et al. Impact of HbA1c Measurement on Hospital Readmission Rates: Analysis of 70,000 Clinical Database Patient Records, BioMed Research International, 2014.\n",
    "\n",
    "Your task is to find the matching subject ID in the clinical dataset for each of the query data. This will help you understand the importance of data privacy and anonymisation.\n",
    "\n",
    "You will mainly use pandas and numpy libraries for this practical. If you need any help on how to use the libraries, you can either go to the Python Tutorial on Blackboard or the following links for more information.\n",
    "\n",
    "[Pandas in 10 minutes](https://pandas.pydata.org/pandas-docs/stable/getting_started/10min.html)\n",
    "\n",
    "[Numpy quick start](https://docs.scipy.org/doc/numpy/user/quickstart.html)"
   ]
  },
  {
   "cell_type": "code",
   "execution_count": null,
   "metadata": {},
   "outputs": [],
   "source": [
    "# Import libaries\n",
    "import numpy as np\n",
    "import pandas as pd"
   ]
  },
  {
   "cell_type": "markdown",
   "metadata": {},
   "source": [
    "## 1. Load and browse data.\n",
    "\n",
    "The filenames for the two datasets are data.csv and query.csv. The first column of data.csv is the subject ID. For query.csv, we do not have the information about subject ID.\n",
    "\n",
    "#### 1.1 Load the data from the csv files and display the first few rows using the head() function in pandas."
   ]
  },
  {
   "cell_type": "code",
   "execution_count": null,
   "metadata": {},
   "outputs": [],
   "source": []
  },
  {
   "cell_type": "markdown",
   "metadata": {},
   "source": [
    "#### 1.2 How many subjects are there in the data set and the query set?"
   ]
  },
  {
   "cell_type": "code",
   "execution_count": null,
   "metadata": {},
   "outputs": [],
   "source": []
  },
  {
   "cell_type": "markdown",
   "metadata": {},
   "source": [
    "## 2. Matching by age.\n",
    "\n",
    "Using only age information, for each row in query.csv, how many matching subjects can you find in data.csv?"
   ]
  },
  {
   "cell_type": "code",
   "execution_count": null,
   "metadata": {},
   "outputs": [],
   "source": []
  },
  {
   "cell_type": "markdown",
   "metadata": {},
   "source": [
    "## 3. Matching by age band.\n",
    "\n",
    "We have prepared another two datasets for you. The filenames are data2.csv and query2.csv. In the new spreadsheets, the age information is replaced by age band, such as 40 to 50 years old.\n",
    "\n",
    "Please load the two new datasets and re-do the matching. How many matching subjects can you find in data2.csv using only age range information? Do you get more matches or less?"
   ]
  },
  {
   "cell_type": "code",
   "execution_count": null,
   "metadata": {},
   "outputs": [],
   "source": []
  },
  {
   "cell_type": "markdown",
   "metadata": {},
   "source": [
    "## 4. Matching by age band, race and gender.\n",
    "\n",
    "Still use data2.csv and query2.csv. This time, using three columns of information (age band, race and gender). How many matching subjects can you find in data2.csv now? Are we almost finding the subjects?"
   ]
  },
  {
   "cell_type": "code",
   "execution_count": null,
   "metadata": {},
   "outputs": [],
   "source": []
  },
  {
   "cell_type": "markdown",
   "metadata": {},
   "source": [
    "## 5. Matching using all information we have.\n",
    "\n",
    "Using all the columns of information we have, how many matching subjects can you find in data2.csv?"
   ]
  },
  {
   "cell_type": "code",
   "execution_count": null,
   "metadata": {},
   "outputs": [],
   "source": []
  }
 ],
 "metadata": {
  "kernelspec": {
   "display_name": "Python 3",
   "language": "python",
   "name": "python3"
  },
  "language_info": {
   "codemirror_mode": {
    "name": "ipython",
    "version": 3
   },
   "file_extension": ".py",
   "mimetype": "text/x-python",
   "name": "python",
   "nbconvert_exporter": "python",
   "pygments_lexer": "ipython3",
   "version": "3.6.8"
  }
 },
 "nbformat": 4,
 "nbformat_minor": 4
}
